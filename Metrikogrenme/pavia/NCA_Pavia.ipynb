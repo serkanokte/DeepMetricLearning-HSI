{
  "nbformat": 4,
  "nbformat_minor": 0,
  "metadata": {
    "colab": {
      "provenance": [],
      "machine_shape": "hm",
      "gpuType": "V28"
    },
    "kernelspec": {
      "name": "python3",
      "display_name": "Python 3"
    },
    "language_info": {
      "name": "python"
    },
    "accelerator": "TPU"
  },
  "cells": [
    {
      "cell_type": "code",
      "execution_count": 1,
      "metadata": {
        "colab": {
          "base_uri": "https://localhost:8080/"
        },
        "id": "PghLEbyVoM6i",
        "outputId": "33ca638f-e618-4a7c-e790-4ca25cec21de"
      },
      "outputs": [
        {
          "output_type": "stream",
          "name": "stdout",
          "text": [
            "Collecting metric-learn\n",
            "  Downloading metric_learn-0.7.0-py2.py3-none-any.whl (67 kB)\n",
            "\u001b[2K     \u001b[90m━━━━━━━━━━━━━━━━━━━━━━━━━━━━━━━━━━━━━━━━\u001b[0m \u001b[32m67.8/67.8 kB\u001b[0m \u001b[31m752.2 kB/s\u001b[0m eta \u001b[36m0:00:00\u001b[0m\n",
            "\u001b[?25hRequirement already satisfied: numpy>=1.11.0 in /usr/local/lib/python3.10/dist-packages (from metric-learn) (1.25.2)\n",
            "Requirement already satisfied: scipy>=0.17.0 in /usr/local/lib/python3.10/dist-packages (from metric-learn) (1.11.4)\n",
            "Requirement already satisfied: scikit-learn>=0.21.3 in /usr/local/lib/python3.10/dist-packages (from metric-learn) (1.2.2)\n",
            "Requirement already satisfied: joblib>=1.1.1 in /usr/local/lib/python3.10/dist-packages (from scikit-learn>=0.21.3->metric-learn) (1.4.2)\n",
            "Requirement already satisfied: threadpoolctl>=2.0.0 in /usr/local/lib/python3.10/dist-packages (from scikit-learn>=0.21.3->metric-learn) (3.5.0)\n",
            "Installing collected packages: metric-learn\n",
            "Successfully installed metric-learn-0.7.0\n"
          ]
        }
      ],
      "source": [
        "import matplotlib.pyplot as plt\n",
        "import os\n",
        "import numpy as np\n",
        "import seaborn as sns\n",
        "import plotly.graph_objects as go\n",
        "import plotly.express as px\n",
        "import pandas as pd\n",
        "from sklearn.decomposition import PCA\n",
        "from sklearn.model_selection import train_test_split\n",
        "from sklearn.metrics import accuracy_score\n",
        "import warnings\n",
        "warnings.filterwarnings(\"ignore\")\n",
        "\n",
        "!pip install metric-learn"
      ]
    },
    {
      "cell_type": "code",
      "source": [
        "import scipy.io\n",
        "data = scipy.io.loadmat('PaviaU.mat')['paviaU']\n",
        "gt = scipy.io.loadmat('PaviaU_gt.mat')['paviaU_gt']"
      ],
      "metadata": {
        "id": "kEozx23RpFm3"
      },
      "execution_count": 2,
      "outputs": []
    },
    {
      "cell_type": "code",
      "source": [
        "def applyPCA(X, numComponents=15):\n",
        "    newX = np.reshape(X, (-1, X.shape[2]))\n",
        "    pca = PCA(n_components=numComponents, whiten=True)\n",
        "    newX = pca.fit_transform(newX)\n",
        "    newX = np.reshape(newX, (X.shape[0],X.shape[1], numComponents))\n",
        "    return newX"
      ],
      "metadata": {
        "id": "BYR7Ft4HpG-R"
      },
      "execution_count": 3,
      "outputs": []
    },
    {
      "cell_type": "code",
      "source": [
        "data=applyPCA(data)\n",
        "\n",
        "df = pd.DataFrame(data.reshape(data.shape[0]*data.shape[1], -1))\n",
        "df['class'] = gt.ravel()\n",
        "\n",
        "X = df[df['class']!=0].iloc[:, :-1].values\n",
        "\n",
        "y = df[df['class']!=0].iloc[:, -1].values"
      ],
      "metadata": {
        "id": "47ldazUupIIa"
      },
      "execution_count": 4,
      "outputs": []
    },
    {
      "cell_type": "code",
      "source": [
        "from sklearn.model_selection import KFold\n",
        "from sklearn.neighbors import KNeighborsClassifier\n",
        "from metric_learn import NCA\n",
        "\n",
        "\n",
        "X_train, X_test, y_train, y_test = train_test_split(X, y, test_size=0.5, random_state=42)\n",
        "\n",
        "nca = NCA(max_iter=100,verbose=True)\n",
        "knn = KNeighborsClassifier(n_neighbors=5)\n",
        "\n",
        "nca.fit(X_train, y_train)\n",
        "\n",
        "\n",
        "knn.fit(nca.transform(X_train), y_train)\n",
        "\n",
        "\n",
        "nca_acc = knn.score(nca.transform(X_test), y_test)\n",
        "print('NCA accuracy:', nca_acc)"
      ],
      "metadata": {
        "colab": {
          "base_uri": "https://localhost:8080/"
        },
        "id": "pxs3W-FbpN75",
        "outputId": "1a7b1155-f358-4da5-c67d-8bf601323f08"
      },
      "execution_count": 5,
      "outputs": [
        {
          "output_type": "stream",
          "name": "stdout",
          "text": [
            "[NCA]\n",
            "[NCA]  Iteration      Objective Value    Time(s)\n",
            "[NCA] ------------------------------------------\n",
            "[NCA]          0         1.523361e+04      20.94\n",
            "[NCA]          1         1.734358e+04      21.03\n",
            "[NCA]          2         1.818307e+04      20.94\n",
            "[NCA]          3         1.896725e+04      20.96\n",
            "[NCA]          4         1.945852e+04      21.74\n",
            "[NCA]          5         1.953792e+04      22.54\n",
            "[NCA]          6         1.987527e+04      22.82\n",
            "[NCA]          7         1.998528e+04      23.09\n",
            "[NCA]          8         2.005278e+04      24.17\n",
            "[NCA]          9         2.012382e+04      29.24\n",
            "[NCA]         10         2.018186e+04      31.84\n",
            "[NCA]         11         2.020861e+04      32.70\n",
            "[NCA]         12         2.023520e+04      32.99\n",
            "[NCA]         13         2.025487e+04      33.94\n",
            "[NCA]         14         2.027102e+04      34.61\n",
            "[NCA]         15         2.029475e+04      35.37\n",
            "[NCA]         16         2.031346e+04      35.30\n",
            "[NCA]         17         2.033446e+04      34.77\n",
            "[NCA]         18         2.033331e+04      34.06\n",
            "[NCA]         19         2.034732e+04      34.54\n",
            "[NCA]         20         2.035886e+04      34.28\n",
            "[NCA]         21         2.037070e+04      33.93\n",
            "[NCA]         22         2.037868e+04      33.77\n",
            "[NCA]         23         2.038534e+04      33.71\n",
            "[NCA]         24         2.039304e+04      33.24\n",
            "[NCA]         25         2.039213e+04      33.04\n",
            "[NCA]         26         2.039766e+04      33.21\n",
            "[NCA]         27         2.040314e+04      32.93\n",
            "[NCA]         28         2.040720e+04      32.79\n",
            "[NCA]         29         2.041128e+04      32.64\n",
            "[NCA]         30         2.041615e+04      32.26\n",
            "[NCA]         31         2.041683e+04      31.88\n",
            "[NCA]         32         2.042365e+04      32.00\n",
            "[NCA]         33         2.042801e+04      31.82\n",
            "[NCA]         34         2.043282e+04      31.45\n",
            "[NCA]         35         2.043612e+04      31.36\n",
            "[NCA]         36         2.043842e+04      31.24\n",
            "[NCA]         37         2.043993e+04      31.10\n",
            "[NCA]         38         2.044158e+04      31.04\n",
            "[NCA]         39         2.044272e+04      30.83\n",
            "[NCA]         40         2.044472e+04      30.71\n",
            "[NCA]         41         2.044226e+04      30.27\n",
            "[NCA]         42         2.044601e+04      30.65\n",
            "[NCA]         43         2.044732e+04      30.71\n",
            "[NCA]         44         2.044883e+04      30.65\n",
            "[NCA]         45         2.045004e+04      30.26\n",
            "[NCA]         46         2.045249e+04      30.17\n",
            "[NCA]         47         2.045401e+04      30.11\n",
            "[NCA]         48         2.045690e+04      29.61\n",
            "[NCA]         49         2.045945e+04      29.48\n",
            "[NCA]         50         2.046114e+04      29.51\n",
            "[NCA]         51         2.046271e+04      29.17\n",
            "[NCA]         52         2.046263e+04      28.93\n",
            "[NCA]         53         2.046386e+04      28.99\n",
            "[NCA]         54         2.046553e+04      28.92\n",
            "[NCA]         55         2.046743e+04      28.72\n",
            "[NCA]         56         2.046879e+04      28.76\n",
            "[NCA]         57         2.047012e+04      28.56\n",
            "[NCA]         58         2.047130e+04      28.29\n",
            "[NCA]         59         2.047137e+04      27.95\n",
            "[NCA]         60         2.047263e+04      28.21\n",
            "[NCA]         61         2.047309e+04      28.06\n",
            "[NCA]         62         2.047489e+04      28.00\n",
            "[NCA]         63         2.047545e+04      27.92\n",
            "[NCA]         64         2.047579e+04      27.87\n",
            "[NCA]         65         2.047613e+04      27.86\n",
            "[NCA]         66         2.047651e+04      27.89\n",
            "[NCA]         67         2.047785e+04      27.64\n",
            "[NCA]         68         2.047748e+04      27.55\n",
            "[NCA]         69         2.047830e+04      27.53\n",
            "[NCA]         70         2.047874e+04      27.53\n",
            "[NCA]         71         2.047928e+04      27.48\n",
            "[NCA]         72         2.048007e+04      27.18\n",
            "[NCA]         73         2.048080e+04      27.17\n",
            "[NCA]         74         2.048052e+04      26.85\n",
            "[NCA]         75         2.048128e+04      27.13\n",
            "[NCA]         76         2.048176e+04      27.03\n",
            "[NCA]         77         2.048266e+04      26.95\n",
            "[NCA]         78         2.047808e+04      26.68\n",
            "[NCA]         79         2.048322e+04      27.00\n",
            "[NCA]         80         2.048182e+04      26.65\n",
            "[NCA]         81         2.048337e+04      26.90\n",
            "[NCA]         82         2.048364e+04      26.86\n",
            "[NCA]         83         2.048416e+04      26.83\n",
            "[NCA]         84         2.048040e+04      26.66\n",
            "[NCA]         85         2.048429e+04      26.72\n",
            "[NCA]         86         2.046164e+04      26.32\n",
            "[NCA]         87         2.048444e+04      26.82\n",
            "[NCA]         88         2.048454e+04      26.79\n",
            "[NCA]         89         2.048463e+04      26.94\n",
            "[NCA]         90         2.048480e+04      26.72\n",
            "[NCA]         91         2.048508e+04      26.67\n",
            "[NCA]         92         2.048429e+04      26.54\n",
            "[NCA]         93         2.048581e+04      26.75\n",
            "[NCA]         94         2.047683e+04      26.13\n",
            "[NCA]         95         2.048599e+04      26.51\n",
            "[NCA]         96         2.048644e+04      26.48\n",
            "[NCA]         97         2.048663e+04      26.47\n",
            "[NCA]         98         2.048701e+04      26.60\n",
            "[NCA]         99         2.048726e+04      26.44\n",
            "[NCA]        100         2.048687e+04      26.35\n",
            "[NCA]        101         2.048735e+04      26.48\n",
            "[NCA]        102         2.048746e+04      26.45\n",
            "[NCA]        103         2.048757e+04      26.39\n",
            "[NCA]        104         2.048771e+04      26.33\n",
            "[NCA]        105         2.048777e+04      26.22\n",
            "[NCA]        106         2.048777e+04      26.32\n",
            "[NCA]        107         2.048787e+04      26.31\n",
            "[NCA]        108         2.048796e+04      26.20\n",
            "[NCA]        109         2.048795e+04      26.31\n",
            "[NCA]        110         2.048795e+04      26.39\n",
            "[NCA]        111         2.048802e+04      26.60\n",
            "[NCA]        112         2.048812e+04      26.25\n",
            "[NCA]        113         2.048822e+04      26.29\n",
            "[NCA]        114         2.048833e+04      26.13\n",
            "[NCA]        115         2.048845e+04      26.03\n",
            "[NCA]        116         2.048856e+04      26.04\n",
            "[NCA]        117         2.048883e+04      25.78\n",
            "[NCA]        118         2.048490e+04      25.57\n",
            "[NCA]        119         2.048907e+04      25.86\n",
            "[NCA]        120         2.048931e+04      25.87\n",
            "[NCA]        121         2.048849e+04      25.66\n",
            "[NCA]        122         2.048948e+04      25.76\n",
            "[NCA]        123         2.046444e+04      25.32\n",
            "[NCA]        124         2.048945e+04      25.71\n",
            "[NCA]        125         2.048951e+04      25.71\n",
            "[NCA] Training took  3572.32s.\n",
            "NCA accuracy: 0.9528240134654947\n"
          ]
        }
      ]
    },
    {
      "cell_type": "code",
      "source": [
        "import joblib\n",
        "\n",
        "joblib.dump(nca, 's_nca_pu_model.pkl')\n",
        "joblib.dump(knn,'s_nca_pu_knn_model.pkl')\n",
        "\n",
        "nca_loaded = joblib.load('s_nca_pu_model.pkl')\n",
        "knn_loaded =joblib.load('s_nca_pu_knn_model.pkl')\n",
        "\n",
        "nca_data=nca_loaded.transform(X)\n",
        "pred=knn_loaded.predict(nca_data)"
      ],
      "metadata": {
        "id": "qzKXGaE_pUBr"
      },
      "execution_count": 6,
      "outputs": []
    },
    {
      "cell_type": "code",
      "source": [
        "from sklearn.metrics import accuracy_score\n",
        "from sklearn.metrics import f1_score\n",
        "from sklearn.metrics import cohen_kappa_score\n",
        "\n",
        "print(\"accuracy:\",accuracy_score(pred,y))\n",
        "print(\"cohen kappa:\", cohen_kappa_score(pred,y))\n",
        "print(\"f1 score:\",f1_score(pred,y,average='macro'))"
      ],
      "metadata": {
        "colab": {
          "base_uri": "https://localhost:8080/"
        },
        "id": "Jj3kzhJapklL",
        "outputId": "f2413d82-15b8-44a3-ce1e-7fb07d2e8149"
      },
      "execution_count": 7,
      "outputs": [
        {
          "output_type": "stream",
          "name": "stdout",
          "text": [
            "accuracy: 0.9593229848513185\n",
            "cohen kappa: 0.9458435319864029\n",
            "f1 score: 0.9489982765462867\n"
          ]
        }
      ]
    }
  ]
}