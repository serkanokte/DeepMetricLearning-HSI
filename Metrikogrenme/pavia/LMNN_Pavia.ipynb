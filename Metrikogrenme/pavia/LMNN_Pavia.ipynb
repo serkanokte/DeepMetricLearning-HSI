{
  "nbformat": 4,
  "nbformat_minor": 0,
  "metadata": {
    "colab": {
      "provenance": [],
      "machine_shape": "hm",
      "gpuType": "T4"
    },
    "kernelspec": {
      "name": "python3",
      "display_name": "Python 3"
    },
    "language_info": {
      "name": "python"
    },
    "accelerator": "GPU"
  },
  "cells": [
    {
      "cell_type": "code",
      "execution_count": 1,
      "metadata": {
        "colab": {
          "base_uri": "https://localhost:8080/"
        },
        "id": "eE4OxkH7vfEm",
        "outputId": "5712461d-adbd-4ef8-b610-5cd0334f7675"
      },
      "outputs": [
        {
          "output_type": "stream",
          "name": "stdout",
          "text": [
            "Collecting metric-learn\n",
            "  Downloading metric_learn-0.7.0-py2.py3-none-any.whl (67 kB)\n",
            "\u001b[?25l     \u001b[90m━━━━━━━━━━━━━━━━━━━━━━━━━━━━━━━━━━━━━━━━\u001b[0m \u001b[32m0.0/67.8 kB\u001b[0m \u001b[31m?\u001b[0m eta \u001b[36m-:--:--\u001b[0m\r\u001b[2K     \u001b[90m━━━━━━━━━━━━━━━━━━━━━━━━━━━━━━━━━━━━━━━━\u001b[0m \u001b[32m67.8/67.8 kB\u001b[0m \u001b[31m2.6 MB/s\u001b[0m eta \u001b[36m0:00:00\u001b[0m\n",
            "\u001b[?25hRequirement already satisfied: numpy>=1.11.0 in /usr/local/lib/python3.10/dist-packages (from metric-learn) (1.25.2)\n",
            "Requirement already satisfied: scipy>=0.17.0 in /usr/local/lib/python3.10/dist-packages (from metric-learn) (1.11.4)\n",
            "Requirement already satisfied: scikit-learn>=0.21.3 in /usr/local/lib/python3.10/dist-packages (from metric-learn) (1.2.2)\n",
            "Requirement already satisfied: joblib>=1.1.1 in /usr/local/lib/python3.10/dist-packages (from scikit-learn>=0.21.3->metric-learn) (1.4.2)\n",
            "Requirement already satisfied: threadpoolctl>=2.0.0 in /usr/local/lib/python3.10/dist-packages (from scikit-learn>=0.21.3->metric-learn) (3.5.0)\n",
            "Installing collected packages: metric-learn\n",
            "Successfully installed metric-learn-0.7.0\n"
          ]
        }
      ],
      "source": [
        "import matplotlib.pyplot as plt\n",
        "import os\n",
        "import numpy as np\n",
        "import seaborn as sns\n",
        "import plotly.graph_objects as go\n",
        "import plotly.express as px\n",
        "import pandas as pd\n",
        "from sklearn.decomposition import PCA\n",
        "from sklearn.model_selection import train_test_split\n",
        "from sklearn.metrics import accuracy_score\n",
        "import warnings\n",
        "warnings.filterwarnings(\"ignore\")\n",
        "\n",
        "!pip install metric-learn"
      ]
    },
    {
      "cell_type": "code",
      "source": [
        "import scipy.io\n",
        "data = scipy.io.loadmat('PaviaU.mat')['paviaU']\n",
        "gt = scipy.io.loadmat('PaviaU_gt.mat')['paviaU_gt']\n"
      ],
      "metadata": {
        "id": "i19z_LBTwCnq"
      },
      "execution_count": 4,
      "outputs": []
    },
    {
      "cell_type": "code",
      "source": [
        "def applyPCA(X, numComponents=15):\n",
        "    newX = np.reshape(X, (-1, X.shape[2]))\n",
        "    pca = PCA(n_components=numComponents, whiten=True)\n",
        "    newX = pca.fit_transform(newX)\n",
        "    newX = np.reshape(newX, (X.shape[0],X.shape[1], numComponents))\n",
        "    return newX"
      ],
      "metadata": {
        "id": "fzngdtiTyjjE"
      },
      "execution_count": 5,
      "outputs": []
    },
    {
      "cell_type": "code",
      "source": [
        "data=applyPCA(data)\n",
        "\n",
        "df = pd.DataFrame(data.reshape(data.shape[0]*data.shape[1], -1))\n",
        "df['class'] = gt.ravel()\n",
        "\n",
        "X = df[df['class']!=0].iloc[:, :-1].values\n",
        "\n",
        "y = df[df['class']!=0].iloc[:, -1].values"
      ],
      "metadata": {
        "id": "MlFqZ_Cgyllk"
      },
      "execution_count": 6,
      "outputs": []
    },
    {
      "cell_type": "code",
      "source": [
        "from sklearn.model_selection import KFold\n",
        "from sklearn.neighbors import KNeighborsClassifier\n",
        "from metric_learn import LMNN\n",
        "\n",
        "acc_list = []\n",
        "\n",
        "kf = KFold(n_splits=5, shuffle=True,random_state=42)\n",
        "\n",
        "lmnn = LMNN(n_neighbors=5)\n",
        "knn = KNeighborsClassifier(n_neighbors=5)\n",
        "\n",
        "f_index = 1\n",
        "for train_index, test_index in kf.split(X):\n",
        "    print(f\"Fold {f_index} -> Train: {len(train_index)}, Test: {len(test_index)}\")\n",
        "\n",
        "    X_train, X_test = X[train_index], X[test_index]\n",
        "    y_train, y_test = y[train_index], y[test_index]\n",
        "\n",
        "    lmnn.fit(X_train, y_train)\n",
        "    knn.fit(lmnn.transform(X_train), y_train)\n",
        "\n",
        "\n",
        "    lmnn_acc = knn.score(lmnn.transform(X_test), y_test)\n",
        "    print('lmnn accuracy  {}'.format(lmnn_acc))\n",
        "\n",
        "    acc_list.append(lmnn_acc)\n",
        "\n",
        "    f_index += 1\n",
        "\n",
        "print(\"Ortalaması Başarı:\", np.mean(acc_list))\n",
        "print(\"Standart sapma:\",np.std(acc_list) )"
      ],
      "metadata": {
        "colab": {
          "base_uri": "https://localhost:8080/"
        },
        "id": "QuhVbGvdyoaK",
        "outputId": "07f24cbe-24bb-41d7-a14b-09e1fa428f5d"
      },
      "execution_count": 7,
      "outputs": [
        {
          "output_type": "stream",
          "name": "stdout",
          "text": [
            "Fold 1 -> Train: 34220, Test: 8556\n",
            "lmnn accuracy  0.9114071996259935\n",
            "Fold 2 -> Train: 34221, Test: 8555\n",
            "lmnn accuracy  0.9042665108123904\n",
            "Fold 3 -> Train: 34221, Test: 8555\n",
            "lmnn accuracy  0.902863822326125\n",
            "Fold 4 -> Train: 34221, Test: 8555\n",
            "lmnn accuracy  0.9037989479836352\n",
            "Fold 5 -> Train: 34221, Test: 8555\n",
            "lmnn accuracy  0.8994739918176505\n",
            "Ortalaması Başarı: 0.904362094513159\n",
            "Standart sapma: 0.0039012342615313543\n"
          ]
        }
      ]
    },
    {
      "cell_type": "code",
      "source": [
        "import joblib\n",
        "\n",
        "joblib.dump(lmnn, 's_lmnn_pu_model.pkl')\n",
        "joblib.dump(knn,'s_lmnn_pu_knn_model.pkl')\n",
        "\n",
        "lmnn_loaded = joblib.load('s_lmnn_pu_model.pkl')\n",
        "knn_loaded =joblib.load('s_lmnn_pu_knn_model.pkl')\n",
        "\n",
        "lmnn_data=lmnn_loaded.transform(X)\n",
        "pred=knn_loaded.predict(lmnn_data)"
      ],
      "metadata": {
        "id": "bmTLynHgyqoB"
      },
      "execution_count": 8,
      "outputs": []
    },
    {
      "cell_type": "code",
      "source": [
        "from sklearn.metrics import accuracy_score\n",
        "from sklearn.metrics import f1_score\n",
        "from sklearn.metrics import cohen_kappa_score\n",
        "\n",
        "print(\"accuracy:\",accuracy_score(pred,y))\n",
        "print(\"cohen kappa:\", cohen_kappa_score(pred,y))\n",
        "print(\"f1 score:\",f1_score(pred,y,average='macro'))"
      ],
      "metadata": {
        "colab": {
          "base_uri": "https://localhost:8080/"
        },
        "id": "95S_LXU-ywbI",
        "outputId": "fdc1638e-af22-424a-8723-d5947320aa1a"
      },
      "execution_count": 9,
      "outputs": [
        {
          "output_type": "stream",
          "name": "stdout",
          "text": [
            "accuracy: 0.9297970824761549\n",
            "cohen kappa: 0.9059681067333695\n",
            "f1 score: 0.9114392597329668\n"
          ]
        }
      ]
    }
  ]
}