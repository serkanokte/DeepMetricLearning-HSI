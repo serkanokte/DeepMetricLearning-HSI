{
  "nbformat": 4,
  "nbformat_minor": 0,
  "metadata": {
    "colab": {
      "provenance": [],
      "machine_shape": "hm",
      "gpuType": "T4"
    },
    "kernelspec": {
      "name": "python3",
      "display_name": "Python 3"
    },
    "language_info": {
      "name": "python"
    },
    "accelerator": "GPU"
  },
  "cells": [
    {
      "cell_type": "code",
      "execution_count": 7,
      "metadata": {
        "colab": {
          "base_uri": "https://localhost:8080/"
        },
        "id": "KQ-NosVjY9dc",
        "outputId": "ae55dddb-9049-4988-b668-20b3a227f5d2"
      },
      "outputs": [
        {
          "output_type": "stream",
          "name": "stdout",
          "text": [
            "Requirement already satisfied: metric-learn in /usr/local/lib/python3.10/dist-packages (0.7.0)\n",
            "Requirement already satisfied: numpy>=1.11.0 in /usr/local/lib/python3.10/dist-packages (from metric-learn) (1.25.2)\n",
            "Requirement already satisfied: scipy>=0.17.0 in /usr/local/lib/python3.10/dist-packages (from metric-learn) (1.11.4)\n",
            "Requirement already satisfied: scikit-learn>=0.21.3 in /usr/local/lib/python3.10/dist-packages (from metric-learn) (1.2.2)\n",
            "Requirement already satisfied: joblib>=1.1.1 in /usr/local/lib/python3.10/dist-packages (from scikit-learn>=0.21.3->metric-learn) (1.4.2)\n",
            "Requirement already satisfied: threadpoolctl>=2.0.0 in /usr/local/lib/python3.10/dist-packages (from scikit-learn>=0.21.3->metric-learn) (3.5.0)\n"
          ]
        }
      ],
      "source": [
        "import matplotlib.pyplot as plt\n",
        "import os\n",
        "import numpy as np\n",
        "import seaborn as sns\n",
        "import plotly.graph_objects as go\n",
        "import plotly.express as px\n",
        "import pandas as pd\n",
        "from sklearn.decomposition import PCA\n",
        "from sklearn.model_selection import train_test_split\n",
        "from sklearn.metrics import accuracy_score\n",
        "import warnings\n",
        "warnings.filterwarnings(\"ignore\")\n",
        "\n",
        "!pip install metric-learn\n",
        "from sklearn.neighbors import KNeighborsClassifier\n",
        "from metric_learn import MLKR"
      ]
    },
    {
      "cell_type": "code",
      "source": [
        "import scipy.io\n",
        "data = scipy.io.loadmat('PaviaU.mat')['paviaU']\n",
        "gt = scipy.io.loadmat('PaviaU_gt.mat')['paviaU_gt']"
      ],
      "metadata": {
        "id": "PRZlSHjGZGG2"
      },
      "execution_count": 2,
      "outputs": []
    },
    {
      "cell_type": "code",
      "source": [
        "def applyPCA(X, numComponents=15):\n",
        "    newX = np.reshape(X, (-1, X.shape[2]))\n",
        "    pca = PCA(n_components=numComponents, whiten=True)\n",
        "    newX = pca.fit_transform(newX)\n",
        "    newX = np.reshape(newX, (X.shape[0],X.shape[1], numComponents))\n",
        "    return newX"
      ],
      "metadata": {
        "id": "hlwCdKTzZJP4"
      },
      "execution_count": 3,
      "outputs": []
    },
    {
      "cell_type": "code",
      "source": [
        "data=applyPCA(data)\n",
        "\n",
        "df = pd.DataFrame(data.reshape(data.shape[0]*data.shape[1], -1))\n",
        "df['class'] = gt.ravel()\n",
        "\n",
        "X = df[df['class']!=0].iloc[:, :-1].values\n",
        "\n",
        "y = df[df['class']!=0].iloc[:, -1].values"
      ],
      "metadata": {
        "id": "nHQvG3noZLt0"
      },
      "execution_count": 4,
      "outputs": []
    },
    {
      "cell_type": "code",
      "source": [
        "X_train, X_test, y_train, y_test = train_test_split(X, y, test_size=0.5, random_state=42)\n",
        "\n",
        "mlkr = MLKR(verbose=True, max_iter=100)\n",
        "knn = KNeighborsClassifier(n_neighbors=5)\n",
        "\n",
        "# MLKR modelini eğitim verilerine uygula\n",
        "mlkr.fit(X_train, y_train)\n",
        "\n",
        "# KNN modelini MLKR dönüştürülmüş eğitim verilerine uygula\n",
        "knn.fit(mlkr.transform(X_train), y_train)\n",
        "\n",
        "# Modeli test verileri üzerinde değerlendir\n",
        "mlkr_acc = knn.score(mlkr.transform(X_test), y_test)\n",
        "print('MLKR accuracy:', mlkr_acc)"
      ],
      "metadata": {
        "colab": {
          "base_uri": "https://localhost:8080/"
        },
        "id": "ZOsSfNqxoOwK",
        "outputId": "412e8431-879f-4046-f512-6b5e1a1c4ea4"
      },
      "execution_count": 8,
      "outputs": [
        {
          "output_type": "stream",
          "name": "stdout",
          "text": [
            "[MLKR]\n",
            "[MLKR]  Iteration      Objective Value    Time(s)\n",
            "[MLKR] ------------------------------------------\n",
            "[MLKR]          0         5.126130e+04      18.67\n",
            "[MLKR]          1         3.437417e+04      18.26\n",
            "[MLKR]          2         2.892506e+04      18.21\n",
            "[MLKR]          3         2.238352e+04      18.21\n",
            "[MLKR]          4         1.935797e+04      19.16\n",
            "[MLKR]          5         1.863113e+04      19.73\n",
            "[MLKR]          6         1.694843e+04      20.01\n",
            "[MLKR]          7         1.638278e+04      20.34\n",
            "[MLKR]          8         1.611253e+04      20.42\n",
            "[MLKR]          9         1.588566e+04      20.54\n",
            "[MLKR]         10         1.560914e+04      20.64\n",
            "[MLKR]         11         1.539037e+04      20.71\n",
            "[MLKR]         12         1.526551e+04      20.80\n",
            "[MLKR]         13         1.511685e+04      20.75\n",
            "[MLKR]         14         1.493538e+04      21.05\n",
            "[MLKR]         15         1.482960e+04      21.04\n",
            "[MLKR]         16         1.469985e+04      21.25\n",
            "[MLKR]         17         1.461401e+04      21.54\n",
            "[MLKR]         18         1.453706e+04      22.28\n",
            "[MLKR]         19         1.446385e+04      22.27\n",
            "[MLKR]         20         1.441419e+04      22.44\n",
            "[MLKR]         21         1.436344e+04      22.95\n",
            "[MLKR]         22         1.429819e+04      23.91\n",
            "[MLKR]         23         1.425172e+04      23.77\n",
            "[MLKR]         24         1.421454e+04      24.08\n",
            "[MLKR]         25         1.417089e+04      24.48\n",
            "[MLKR]         26         1.414350e+04      24.47\n",
            "[MLKR]         27         1.411297e+04      24.72\n",
            "[MLKR]         28         1.408302e+04      25.02\n",
            "[MLKR]         29         1.406295e+04      25.22\n",
            "[MLKR]         30         1.404286e+04      25.21\n",
            "[MLKR]         31         1.399375e+04      25.93\n",
            "[MLKR]         32         1.395887e+04      26.10\n",
            "[MLKR]         33         1.392670e+04      26.31\n",
            "[MLKR]         34         1.389071e+04      26.47\n",
            "[MLKR]         35         1.386170e+04      26.69\n",
            "[MLKR]         36         1.383300e+04      27.08\n",
            "[MLKR]         37         1.381620e+04      26.93\n",
            "[MLKR]         38         1.380242e+04      26.97\n",
            "[MLKR]         39         1.378827e+04      27.38\n",
            "[MLKR]         40         1.377028e+04      27.17\n",
            "[MLKR]         41         1.375420e+04      27.41\n",
            "[MLKR]         42         1.373325e+04      27.42\n",
            "[MLKR]         43         1.372060e+04      27.72\n",
            "[MLKR]         44         1.370588e+04      28.08\n",
            "[MLKR]         45         1.369169e+04      27.84\n",
            "[MLKR]         46         1.368070e+04      27.94\n",
            "[MLKR]         47         1.366718e+04      28.20\n",
            "[MLKR]         48         1.365962e+04      28.33\n",
            "[MLKR]         49         1.365276e+04      28.47\n",
            "[MLKR]         50         1.364684e+04      28.35\n",
            "[MLKR]         51         1.363971e+04      28.41\n",
            "[MLKR]         52         1.363272e+04      28.67\n",
            "[MLKR]         53         1.362410e+04      28.67\n",
            "[MLKR]         54         1.361875e+04      28.69\n",
            "[MLKR]         55         1.360976e+04      28.63\n",
            "[MLKR]         56         1.359874e+04      28.72\n",
            "[MLKR]         57         1.358767e+04      28.81\n",
            "[MLKR]         58         1.357788e+04      29.04\n",
            "[MLKR]         59         1.356909e+04      28.74\n",
            "[MLKR]         60         1.355089e+04      28.90\n",
            "[MLKR]         61         1.394495e+04      29.27\n",
            "[MLKR]         62         1.354620e+04      29.44\n",
            "[MLKR]         63         1.354489e+04      29.04\n",
            "[MLKR]         64         1.352419e+04      29.31\n",
            "[MLKR]         65         1.351587e+04      28.93\n",
            "[MLKR]         66         1.350636e+04      29.26\n",
            "[MLKR]         67         1.349653e+04      29.04\n",
            "[MLKR]         68         1.348663e+04      29.20\n",
            "[MLKR]         69         1.348597e+04      29.27\n",
            "[MLKR]         70         1.346044e+04      29.19\n",
            "[MLKR]         71         1.344964e+04      30.31\n",
            "[MLKR]         72         1.343742e+04      30.14\n",
            "[MLKR]         73         1.342750e+04      29.72\n",
            "[MLKR]         74         1.341685e+04      29.66\n",
            "[MLKR]         75         1.340777e+04      29.74\n",
            "[MLKR]         76         1.339833e+04      29.78\n",
            "[MLKR]         77         1.339061e+04      29.79\n",
            "[MLKR]         78         1.338393e+04      30.35\n",
            "[MLKR]         79         1.337467e+04      30.08\n",
            "[MLKR]         80         1.336936e+04      30.04\n",
            "[MLKR]         81         1.336219e+04      30.07\n",
            "[MLKR]         82         1.335060e+04      30.01\n",
            "[MLKR]         83         1.334088e+04      30.22\n",
            "[MLKR]         84         1.332846e+04      30.24\n",
            "[MLKR]         85         1.332193e+04      30.69\n",
            "[MLKR]         86         1.331221e+04      30.97\n",
            "[MLKR]         87         1.330519e+04      31.03\n",
            "[MLKR]         88         1.329455e+04      31.58\n",
            "[MLKR]         89         1.328534e+04      31.76\n",
            "[MLKR]         90         1.328026e+04      31.73\n",
            "[MLKR]         91         1.327353e+04      31.73\n",
            "[MLKR]         92         1.326872e+04      31.85\n",
            "[MLKR]         93         1.326384e+04      31.72\n",
            "[MLKR]         94         1.325978e+04      31.71\n",
            "[MLKR]         95         1.325575e+04      31.65\n",
            "[MLKR]         96         1.325309e+04      31.79\n",
            "[MLKR]         97         1.325012e+04      30.84\n",
            "[MLKR]         98         1.324739e+04      31.37\n",
            "[MLKR]         99         1.324547e+04      30.98\n",
            "[MLKR]        100         1.324363e+04      30.90\n",
            "[MLKR]        101         1.324140e+04      31.07\n",
            "[MLKR] Training took  2755.92s.\n",
            "MLKR accuracy: 0.9536188516925379\n"
          ]
        }
      ]
    },
    {
      "cell_type": "code",
      "source": [
        "import joblib\n",
        "\n",
        "joblib.dump(mlkr, 's_mlkr_pu_model.pkl')\n",
        "joblib.dump(knn,'s_mlkr_pu_knn_model.pkl')\n",
        "\n",
        "mlkr_loaded = joblib.load('s_mlkr_pu_model.pkl')\n",
        "knn_loaded =joblib.load('s_mlkr_pu_knn_model.pkl')\n",
        "\n",
        "lfda_data=mlkr_loaded.transform(X)\n",
        "pred=knn_loaded.predict(lfda_data)"
      ],
      "metadata": {
        "id": "-0qwv3sbZvHo"
      },
      "execution_count": 9,
      "outputs": []
    },
    {
      "cell_type": "code",
      "source": [
        "from sklearn.metrics import accuracy_score\n",
        "from sklearn.metrics import f1_score\n",
        "from sklearn.metrics import cohen_kappa_score\n",
        "\n",
        "print(\"accuracy:\",accuracy_score(pred,y))\n",
        "print(\"cohen kappa:\", cohen_kappa_score(pred,y))\n",
        "print(\"f1 score:\",f1_score(pred,y,average='macro'))"
      ],
      "metadata": {
        "id": "6KoZGuYooWiZ",
        "colab": {
          "base_uri": "https://localhost:8080/"
        },
        "outputId": "cbfee632-9d02-4adc-bcfd-c29009fe94ab"
      },
      "execution_count": 10,
      "outputs": [
        {
          "output_type": "stream",
          "name": "stdout",
          "text": [
            "accuracy: 0.9613802132036656\n",
            "cohen kappa: 0.948604578147515\n",
            "f1 score: 0.9531182239581236\n"
          ]
        }
      ]
    }
  ]
}