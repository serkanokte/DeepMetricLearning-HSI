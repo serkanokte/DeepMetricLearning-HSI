{
  "nbformat": 4,
  "nbformat_minor": 0,
  "metadata": {
    "colab": {
      "provenance": [],
      "machine_shape": "hm",
      "gpuType": "T4"
    },
    "kernelspec": {
      "name": "python3",
      "display_name": "Python 3"
    },
    "language_info": {
      "name": "python"
    },
    "accelerator": "GPU"
  },
  "cells": [
    {
      "cell_type": "code",
      "execution_count": 8,
      "metadata": {
        "colab": {
          "base_uri": "https://localhost:8080/"
        },
        "id": "x80lfCvvSdeI",
        "outputId": "52b90268-a2f2-4975-f802-246a3fd7daf7"
      },
      "outputs": [
        {
          "output_type": "stream",
          "name": "stdout",
          "text": [
            "Requirement already satisfied: metric-learn in /usr/local/lib/python3.10/dist-packages (0.7.0)\n",
            "Requirement already satisfied: numpy>=1.11.0 in /usr/local/lib/python3.10/dist-packages (from metric-learn) (1.25.2)\n",
            "Requirement already satisfied: scipy>=0.17.0 in /usr/local/lib/python3.10/dist-packages (from metric-learn) (1.11.4)\n",
            "Requirement already satisfied: scikit-learn>=0.21.3 in /usr/local/lib/python3.10/dist-packages (from metric-learn) (1.2.2)\n",
            "Requirement already satisfied: joblib>=1.1.1 in /usr/local/lib/python3.10/dist-packages (from scikit-learn>=0.21.3->metric-learn) (1.4.2)\n",
            "Requirement already satisfied: threadpoolctl>=2.0.0 in /usr/local/lib/python3.10/dist-packages (from scikit-learn>=0.21.3->metric-learn) (3.5.0)\n"
          ]
        }
      ],
      "source": [
        "import matplotlib.pyplot as plt\n",
        "import os\n",
        "import numpy as np\n",
        "import seaborn as sns\n",
        "import plotly.graph_objects as go\n",
        "import plotly.express as px\n",
        "import pandas as pd\n",
        "from sklearn.decomposition import PCA\n",
        "from sklearn.model_selection import train_test_split\n",
        "from sklearn.metrics import accuracy_score\n",
        "import warnings\n",
        "warnings.filterwarnings(\"ignore\")\n",
        "\n",
        "!pip install metric-learn"
      ]
    },
    {
      "cell_type": "code",
      "source": [
        "import scipy.io\n",
        "data = scipy.io.loadmat('PaviaU.mat')['paviaU']\n",
        "gt = scipy.io.loadmat('PaviaU_gt.mat')['paviaU_gt']"
      ],
      "metadata": {
        "id": "iDaFHibbUEJD"
      },
      "execution_count": 9,
      "outputs": []
    },
    {
      "cell_type": "code",
      "source": [
        "def applyPCA(X, numComponents=15):\n",
        "    newX = np.reshape(X, (-1, X.shape[2]))\n",
        "    pca = PCA(n_components=numComponents, whiten=True)\n",
        "    newX = pca.fit_transform(newX)\n",
        "    newX = np.reshape(newX, (X.shape[0],X.shape[1], numComponents))\n",
        "    return newX"
      ],
      "metadata": {
        "id": "noeVOaCvUFZO"
      },
      "execution_count": 10,
      "outputs": []
    },
    {
      "cell_type": "code",
      "source": [
        "data=applyPCA(data)\n",
        "\n",
        "df = pd.DataFrame(data.reshape(data.shape[0]*data.shape[1], -1))\n",
        "df['class'] = gt.ravel()\n",
        "\n",
        "X = df[df['class']!=0].iloc[:, :-1].values\n",
        "\n",
        "y = df[df['class']!=0].iloc[:, -1].values"
      ],
      "metadata": {
        "id": "U3taBjqJUGsm"
      },
      "execution_count": 11,
      "outputs": []
    },
    {
      "cell_type": "code",
      "source": [
        "from sklearn.model_selection import KFold\n",
        "from sklearn.neighbors import KNeighborsClassifier\n",
        "from metric_learn import LFDA\n",
        "from sklearn.impute import SimpleImputer\n",
        "\n",
        "acc_list = []\n",
        "kf = KFold(n_splits=5, shuffle=True, random_state=42)\n",
        "\n",
        "lfda = LFDA(k=2)\n",
        "knn = KNeighborsClassifier(n_neighbors=5)\n",
        "\n",
        "fold_index = 1\n",
        "for train_index, test_index in kf.split(X):\n",
        "    print(f\"Fold {fold_index} -> Train: {len(train_index)}, Test: {len(test_index)}\")\n",
        "\n",
        "\n",
        "    X_train, X_test = X[train_index], X[test_index]\n",
        "    y_train, y_test = y[train_index], y[test_index]\n",
        "\n",
        "    lfda.fit(X_train, y_train)\n",
        "    knn.fit(lfda.transform(X_train), y_train)\n",
        "\n",
        "\n",
        "    lfda_acc = knn.score(lfda.transform(X_test), y_test)\n",
        "    print('lfda accuracy {}'.format( lfda_acc))\n",
        "\n",
        "    acc_list.append(lfda_acc)\n",
        "\n",
        "    fold_index += 1"
      ],
      "metadata": {
        "colab": {
          "base_uri": "https://localhost:8080/"
        },
        "id": "9LXR_VDxUIVH",
        "outputId": "77f6d309-2a51-44f3-db53-b790adea66e7"
      },
      "execution_count": 12,
      "outputs": [
        {
          "output_type": "stream",
          "name": "stdout",
          "text": [
            "Fold 1 -> Train: 34220, Test: 8556\n",
            "lfda accuracy 0.937120149602618\n",
            "Fold 2 -> Train: 34221, Test: 8555\n",
            "lfda accuracy 0.9316189362945646\n",
            "Fold 3 -> Train: 34221, Test: 8555\n",
            "lfda accuracy 0.9305669199298656\n",
            "Fold 4 -> Train: 34221, Test: 8555\n",
            "lfda accuracy 0.9292811221507891\n",
            "Fold 5 -> Train: 34221, Test: 8555\n",
            "lfda accuracy 0.9260081823495032\n"
          ]
        }
      ]
    },
    {
      "cell_type": "code",
      "source": [
        "import joblib\n",
        "\n",
        "joblib.dump(lfda, 's_lfda_pu_model.pkl')\n",
        "joblib.dump(knn,'s_lfda_pu_knn_model.pkl')\n",
        "\n",
        "lfda_loaded = joblib.load('s_lfda_pu_model.pkl')\n",
        "knn_loaded =joblib.load('s_lfda_pu_knn_model.pkl')\n",
        "\n",
        "lfda_data=lfda_loaded.transform(X)\n",
        "pred=knn_loaded.predict(lfda_data)"
      ],
      "metadata": {
        "id": "IBLlLWeWUJ7o"
      },
      "execution_count": 13,
      "outputs": []
    },
    {
      "cell_type": "code",
      "source": [
        "from sklearn.metrics import accuracy_score\n",
        "from sklearn.metrics import f1_score\n",
        "from sklearn.metrics import cohen_kappa_score\n",
        "\n",
        "print(\"accuracy:\",accuracy_score(pred,y))\n",
        "print(\"cohen kappa:\", cohen_kappa_score(pred,y))\n",
        "print(\"f1 score:\",f1_score(pred,y,average='macro'))"
      ],
      "metadata": {
        "colab": {
          "base_uri": "https://localhost:8080/"
        },
        "id": "kLihqpWfURlC",
        "outputId": "43d8ed42-a271-4b58-a974-d526fbd446d7"
      },
      "execution_count": 14,
      "outputs": [
        {
          "output_type": "stream",
          "name": "stdout",
          "text": [
            "accuracy: 0.9455302038526276\n",
            "cohen kappa: 0.9272740423976582\n",
            "f1 score: 0.932146047984101\n"
          ]
        }
      ]
    }
  ]
}